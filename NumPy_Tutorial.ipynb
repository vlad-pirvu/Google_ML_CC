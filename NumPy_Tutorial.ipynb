{
  "cells": [
    {
      "cell_type": "markdown",
      "metadata": {
        "id": "view-in-github",
        "colab_type": "text"
      },
      "source": [
        "<a href=\"https://colab.research.google.com/github/vlad-pirvu/Google_ML_CC/blob/main/NumPy_Tutorial.ipynb\" target=\"_parent\"><img src=\"https://colab.research.google.com/assets/colab-badge.svg\" alt=\"Open In Colab\"/></a>"
      ]
    },
    {
      "cell_type": "markdown",
      "metadata": {
        "id": "azZFyENLZm_g"
      },
      "source": [
        "# NumPy UltraQuick Tutorial\n",
        "\n",
        "[Numpy](https://numpy.org/doc/stable/index.html) is a Python library for creating and manipulating matrices, the main data structure used by ML algorithms. [Matrices](https://en.wikipedia.org/wiki/Matrix_(mathematics)) are mathematical objects used to store values in rows and columns.\n",
        "\n",
        "Python calls matrices *lists*, NumPy calls them *arrays* and TensorFlow calls them *tensors*. Python represents matrices with the [list data type](https://docs.python.org/3/library/stdtypes.html#lists).\n",
        "\n",
        "This Colab is not an exhaustive tutorial on NumPy.  Rather, this Colab teaches you just enough to use NumPy in the Colab exercises of Machine Learning Crash Course."
      ]
    },
    {
      "cell_type": "markdown",
      "metadata": {
        "id": "Ll9RWewwFwX6"
      },
      "source": [
        "## Import NumPy module\n",
        "\n",
        "Run the following code cell to import the NumPy module:"
      ]
    },
    {
      "cell_type": "code",
      "execution_count": null,
      "metadata": {
        "id": "guvPzSWYJGZ4"
      },
      "outputs": [],
      "source": [
        "import numpy as np"
      ]
    },
    {
      "cell_type": "markdown",
      "metadata": {
        "id": "7cT9fXS_JUpa"
      },
      "source": [
        "## Populate arrays with specific numbers\n",
        "\n",
        "Call `np.array` to create a NumPy array with your own hand-picked values. For example, the following call to `np.array` creates an 8-element array:"
      ]
    },
    {
      "cell_type": "code",
      "execution_count": null,
      "metadata": {
        "id": "XxJR5xKpJbB3"
      },
      "outputs": [],
      "source": [
        "one_dimensional_array = np.array([1.2, 2.4, 3.5, 4.7, 6.1, 7.2, 8.3, 9.5])\n",
        "print(one_dimensional_array)"
      ]
    },
    {
      "cell_type": "markdown",
      "metadata": {
        "id": "RKywqhLTbR1M"
      },
      "source": [
        "You can also use `np.array` to create a two-dimensional array. To create a two-dimensional array specify an extra layer of square brackets. For example, the following call creates a 3x2 array:"
      ]
    },
    {
      "cell_type": "code",
      "execution_count": null,
      "metadata": {
        "id": "_veGj18eMCDu"
      },
      "outputs": [],
      "source": [
        "two_dimensional_array = np.array([[6, 5], [11, 7], [4, 8]])\n",
        "print(two_dimensional_array)"
      ]
    },
    {
      "cell_type": "code",
      "source": [
        "x = np.arange(1,10)\n",
        "print(x)\n",
        "print(type(x))"
      ],
      "metadata": {
        "id": "qKa60uIbAQdx"
      },
      "execution_count": null,
      "outputs": []
    },
    {
      "cell_type": "markdown",
      "metadata": {
        "id": "0ED7eug9CvGR"
      },
      "source": [
        "To populate an array with all zeroes, call `np.zeros`. To populate an array with all ones, call `np.ones`."
      ]
    },
    {
      "cell_type": "code",
      "source": [
        "print(np.zeros([3,3]))"
      ],
      "metadata": {
        "id": "d_sVmzT4A-ia"
      },
      "execution_count": null,
      "outputs": []
    },
    {
      "cell_type": "code",
      "source": [
        "print(np.ones([2,3]))"
      ],
      "metadata": {
        "id": "iAbr72DZCuRH"
      },
      "execution_count": null,
      "outputs": []
    },
    {
      "cell_type": "code",
      "source": [
        "print(np.ones([2,3]).size)"
      ],
      "metadata": {
        "id": "OostirplCDm5"
      },
      "execution_count": null,
      "outputs": []
    },
    {
      "cell_type": "code",
      "source": [
        "print(np.ones([2,3]).dtype)"
      ],
      "metadata": {
        "id": "lJfdLhSZCs-Y"
      },
      "execution_count": null,
      "outputs": []
    },
    {
      "cell_type": "code",
      "source": [
        "print(np.full([2,3], 10))"
      ],
      "metadata": {
        "id": "hbmvq8wLYjh1"
      },
      "execution_count": null,
      "outputs": []
    },
    {
      "cell_type": "markdown",
      "metadata": {
        "id": "gEy_pdBoROu3"
      },
      "source": [
        "## Populate arrays with sequences of numbers\n",
        "\n",
        "You can populate an array with a sequence of numbers:"
      ]
    },
    {
      "cell_type": "code",
      "execution_count": null,
      "metadata": {
        "id": "CjHfYWhdQYtO"
      },
      "outputs": [],
      "source": [
        "sequence_of_integers = np.arange(5, 12)\n",
        "print(sequence_of_integers)"
      ]
    },
    {
      "cell_type": "markdown",
      "metadata": {
        "id": "1x3OoWrPWn8S"
      },
      "source": [
        "Notice that `np.arange` generates a sequence that includes the lower bound (5) but not the upper bound (12)."
      ]
    },
    {
      "cell_type": "markdown",
      "metadata": {
        "id": "aiqqxDBINAOY"
      },
      "source": [
        "## Populate arrays with random numbers\n",
        "\n",
        "NumPy provides various functions to populate arrays with random numbers across certain ranges. For example, `np.random.randint` generates random integers between a low and high value. The following call populates a 6-element array with random integers between 50 and 100.\n",
        "\n",
        "\n"
      ]
    },
    {
      "cell_type": "code",
      "execution_count": null,
      "metadata": {
        "id": "tG8ao9CsNqw8"
      },
      "outputs": [],
      "source": [
        "random_integers_between_50_and_100 = np.random.randint(low=50, high=101, size=(6,))\n",
        "print(random_integers_between_50_and_100)"
      ]
    },
    {
      "cell_type": "code",
      "source": [
        "d100Roll = np.random.randint(1,101,1)\n",
        "print(d100Roll)"
      ],
      "metadata": {
        "id": "KTaoyu1dEEnM"
      },
      "execution_count": null,
      "outputs": []
    },
    {
      "cell_type": "markdown",
      "metadata": {
        "id": "BSU7lMUcgRm3"
      },
      "source": [
        "Note that the highest generated integer `np.random.randint` is one less than the `high` argument."
      ]
    },
    {
      "cell_type": "code",
      "source": [
        "print(np.random.choice([10,20,30,40], size=[5,7]))"
      ],
      "metadata": {
        "id": "3O7kexb-vaC-"
      },
      "execution_count": null,
      "outputs": []
    },
    {
      "cell_type": "markdown",
      "metadata": {
        "id": "lQF6-Eg0ksqE"
      },
      "source": [
        "To create random floating-point values between 0.0 and 1.0, call `np.random.random`. For example:"
      ]
    },
    {
      "cell_type": "code",
      "execution_count": null,
      "metadata": {
        "id": "6Ny0eXZPk5Ax"
      },
      "outputs": [],
      "source": [
        "random_floats_between_0_and_1 = np.random.random((6,))\n",
        "print(random_floats_between_0_and_1)"
      ]
    },
    {
      "cell_type": "code",
      "source": [
        "print(type(np.inf))"
      ],
      "metadata": {
        "id": "6w4g9_SqZ9oD"
      },
      "execution_count": null,
      "outputs": []
    },
    {
      "cell_type": "markdown",
      "source": [
        "## Indexes & Slicing"
      ],
      "metadata": {
        "id": "J-fQCE4kFaFg"
      }
    },
    {
      "cell_type": "code",
      "source": [
        "np_mult_arr = np.zeros([3,3])\n",
        "print(np_mult_arr)\n",
        "np_mult_arr[0,0] = 2\n",
        "print(np_mult_arr)\n",
        "print(np_mult_arr.size)\n",
        "print(np_mult_arr.shape)\n",
        "print(np_mult_arr.item(0,0))\n",
        "print(np_mult_arr[0,0])\n",
        "print(np_mult_arr[0][0])"
      ],
      "metadata": {
        "id": "C6odL9MHFhfz"
      },
      "execution_count": null,
      "outputs": []
    },
    {
      "cell_type": "code",
      "source": [
        "np_mult_arr = np.array([[1,2,3],[4,5,6],[7,8,9]])\n",
        "print(np_mult_arr)\n",
        "\n",
        "print(np_mult_arr[::-1])"
      ],
      "metadata": {
        "id": "QG_r9PsxMDBr"
      },
      "execution_count": null,
      "outputs": []
    },
    {
      "cell_type": "code",
      "source": [
        "evens = np_mult_arr[np_mult_arr % 2 == 0]\n",
        "print(evens)\n",
        "gt5 = np_mult_arr[np_mult_arr > 5]\n",
        "print(gt5)\n",
        "gt4lt8 = np_mult_arr[(np_mult_arr > 4) & (np_mult_arr < 8)]\n",
        "print(gt4lt8)"
      ],
      "metadata": {
        "id": "_S6b2MK2P4K7"
      },
      "execution_count": null,
      "outputs": []
    },
    {
      "cell_type": "code",
      "source": [
        "print(np_mult_arr)\n",
        "print(np_mult_arr > 5)\n",
        "print(np.where(np_mult_arr > 5, 0, 1))"
      ],
      "metadata": {
        "id": "rPVkf53-iPDo"
      },
      "execution_count": null,
      "outputs": []
    },
    {
      "cell_type": "markdown",
      "source": [
        "## Reshaping Arrays"
      ],
      "metadata": {
        "id": "QObFy2qcRdSY"
      }
    },
    {
      "cell_type": "code",
      "source": [
        "np_mult_arr.reshape([1,9])"
      ],
      "metadata": {
        "id": "xzaY639IRccX"
      },
      "execution_count": null,
      "outputs": []
    },
    {
      "cell_type": "code",
      "source": [
        "np.resize(np_mult_arr,[2,4])"
      ],
      "metadata": {
        "id": "D0DUsgfwSfqt"
      },
      "execution_count": null,
      "outputs": []
    },
    {
      "cell_type": "code",
      "source": [
        "np_mult_arr"
      ],
      "metadata": {
        "id": "ClZOPFv-Thx8"
      },
      "execution_count": null,
      "outputs": []
    },
    {
      "cell_type": "code",
      "source": [
        "np_mult_arr.swapaxes(0,1)"
      ],
      "metadata": {
        "id": "Q8wOg8MtTCoO"
      },
      "execution_count": null,
      "outputs": []
    },
    {
      "cell_type": "code",
      "source": [
        "np_mult_arr.flatten()"
      ],
      "metadata": {
        "id": "6OxuytkRTewQ"
      },
      "execution_count": null,
      "outputs": []
    },
    {
      "cell_type": "code",
      "source": [
        "np_mult_arr.flatten('F')"
      ],
      "metadata": {
        "id": "99y6l3mzTMKN"
      },
      "execution_count": null,
      "outputs": []
    },
    {
      "cell_type": "code",
      "source": [
        "np_mult_arr.sort(axis=1)\n",
        "np_mult_arr"
      ],
      "metadata": {
        "id": "hu14nFY8TsjK"
      },
      "execution_count": null,
      "outputs": []
    },
    {
      "cell_type": "markdown",
      "source": [
        "## Stacking & Splitting"
      ],
      "metadata": {
        "id": "g7EqUD7CVEdi"
      }
    },
    {
      "cell_type": "code",
      "source": [
        "ss_arr_1 = np.random.randint(1,10,[2,2])\n",
        "ss_arr_2 = np.random.randint(1,10,[2,2])\n",
        "print(ss_arr_1)\n",
        "print(ss_arr_2)"
      ],
      "metadata": {
        "id": "Gdn9fk9_VctA"
      },
      "execution_count": null,
      "outputs": []
    },
    {
      "cell_type": "code",
      "source": [
        "x = np.vstack((ss_arr_1,ss_arr_2))\n",
        "print(x)"
      ],
      "metadata": {
        "id": "WnoH4wpRVGtP"
      },
      "execution_count": null,
      "outputs": []
    },
    {
      "cell_type": "code",
      "source": [
        "y = np.hstack((ss_arr_1,ss_arr_2))\n",
        "print(y)"
      ],
      "metadata": {
        "id": "cegy-xO_VlLw"
      },
      "execution_count": null,
      "outputs": []
    },
    {
      "cell_type": "code",
      "source": [
        "np.delete(ss_arr_1,1,0)"
      ],
      "metadata": {
        "id": "tGbzld1AV4fH"
      },
      "execution_count": null,
      "outputs": []
    },
    {
      "cell_type": "code",
      "source": [
        "np.column_stack((ss_arr_1,ss_arr_2))"
      ],
      "metadata": {
        "id": "2z-KjLmpWVCe"
      },
      "execution_count": null,
      "outputs": []
    },
    {
      "cell_type": "code",
      "source": [
        "print(np.hsplit(ss_arr_1,2))\n",
        "print(np.vsplit(ss_arr_1,2))"
      ],
      "metadata": {
        "id": "7TKUlDkMW-iV"
      },
      "execution_count": null,
      "outputs": []
    },
    {
      "cell_type": "code",
      "source": [
        "print(np.split(ss_arr_1,2,0))\n",
        "print(np.split(ss_arr_1,2,1))"
      ],
      "metadata": {
        "id": "gTA6t-lPtnfQ"
      },
      "execution_count": null,
      "outputs": []
    },
    {
      "cell_type": "code",
      "source": [
        "ss_arr_3 = np.concatenate([ss_arr_1,ss_arr_2],axis=1)\n",
        "print(ss_arr_3)"
      ],
      "metadata": {
        "id": "EpXph5YWrycF"
      },
      "execution_count": null,
      "outputs": []
    },
    {
      "cell_type": "code",
      "source": [
        "x = np.stack([ss_arr_1,ss_arr_2])\n",
        "print(x)\n",
        "print(x.shape)"
      ],
      "metadata": {
        "id": "xBFu_HZis0ZV"
      },
      "execution_count": null,
      "outputs": []
    },
    {
      "cell_type": "markdown",
      "metadata": {
        "id": "eXOdSjRlSEf6"
      },
      "source": [
        "## Mathematical Operations on NumPy Operands\n",
        "\n",
        "If you want to add or subtract two arrays, linear algebra requires that the two operands have the same dimensions. Furthermore, if you want to multiply two arrays, linear algebra imposes strict rules on the dimensional compatibility of operands. Fortunately, NumPy uses a trick called [**broadcasting**](https://developers.google.com/machine-learning/glossary/#broadcasting) to virtually expand the smaller operand to dimensions compatible for linear algebra. For example, the following operation uses broadcasting to add 2.0 to the value of every item in the array created in the previous code cell:"
      ]
    },
    {
      "cell_type": "code",
      "execution_count": null,
      "metadata": {
        "id": "J5E5S0wjRvQr"
      },
      "outputs": [],
      "source": [
        "random_floats_between_2_and_3 = random_floats_between_0_and_1 + 2.0\n",
        "print(random_floats_between_2_and_3)"
      ]
    },
    {
      "cell_type": "markdown",
      "metadata": {
        "id": "x6K_poVDPpAg"
      },
      "source": [
        "The following operation also relies on broadcasting to multiply each cell in an array by 3:"
      ]
    },
    {
      "cell_type": "code",
      "execution_count": null,
      "metadata": {
        "id": "tYjvXmvFPoPB"
      },
      "outputs": [],
      "source": [
        "random_integers_between_150_and_300 = random_integers_between_50_and_100 * 3\n",
        "print(random_integers_between_150_and_300)"
      ]
    },
    {
      "cell_type": "code",
      "source": [
        "#Broadcasting:\n",
        "a = np.array([1,2,3])\n",
        "a.shape\n",
        "b = np.array([[1,2,3],[4,5,6]])\n",
        "b.shape\n",
        "print(a + b)"
      ],
      "metadata": {
        "id": "Eabsxavdmj7C"
      },
      "execution_count": null,
      "outputs": []
    },
    {
      "cell_type": "code",
      "source": [
        "#python native list:\n",
        "print([1,2] * 3)\n",
        "#np array:\n",
        "print(np.array([1,2]) * 3)\n",
        "#this applies to other operators as well (+,-,*,/...)"
      ],
      "metadata": {
        "id": "Gj0ciKnDmChd"
      },
      "execution_count": null,
      "outputs": []
    },
    {
      "cell_type": "code",
      "source": [
        "np_arr = [[1,4],[9,16]]\n",
        "print(np_arr)\n",
        "print(np.sqrt(np_arr))\n",
        "#this applies to other functions as well (sin, cos, tan, arctan, exp, log..)"
      ],
      "metadata": {
        "id": "6IcgzIt1mQw1"
      },
      "execution_count": null,
      "outputs": []
    },
    {
      "cell_type": "code",
      "source": [
        "arr_3 = np.array([1,2,3,4])\n",
        "arr_4 = np.array([2,4,6,8])\n",
        "print(arr_3 + arr_4)\n",
        "print(arr_3 - arr_4)\n",
        "print(arr_3 * arr_4)\n",
        "print(arr_3 / arr_4)\n",
        "print(arr_4**2)"
      ],
      "metadata": {
        "id": "eumIpGUX7eBz"
      },
      "execution_count": null,
      "outputs": []
    },
    {
      "cell_type": "code",
      "source": [
        "arr_5 = np.array([[1,2],[3,4]])\n",
        "print(np.floor([1.2, 2.5]))\n",
        "print(np.ceil([1.2, 2.5]))"
      ],
      "metadata": {
        "id": "2o5pBtEs-wCl"
      },
      "execution_count": null,
      "outputs": []
    },
    {
      "cell_type": "code",
      "source": [
        "arr_6 = np.random.randint(10, size=(5,3))\n",
        "print(arr_6)\n",
        "max_index = arr_6.argmax(axis=0) #max per col\n",
        "max_index = arr_6.argmax(axis=1) #max per row\n",
        "print(max_index)"
      ],
      "metadata": {
        "id": "SQh2sbuSFbLY"
      },
      "execution_count": null,
      "outputs": []
    },
    {
      "cell_type": "code",
      "source": [
        "#Array methods:\n",
        "a = np.array([1,2,3])\n",
        "a = np.append(a,[ 7,8,9])\n",
        "print(a)\n",
        "a = np.insert(a, 3, [4,5,6])\n",
        "print(a)"
      ],
      "metadata": {
        "id": "1yW92SZSm1eo"
      },
      "execution_count": null,
      "outputs": []
    },
    {
      "cell_type": "code",
      "source": [
        "a = a.reshape([3,3])\n",
        "print(a)\n",
        "print(np.delete(a,1,0))\n",
        "print(np.delete(a,1,1))"
      ],
      "metadata": {
        "id": "n7rEJBk_naUN"
      },
      "execution_count": null,
      "outputs": []
    },
    {
      "cell_type": "code",
      "source": [
        "#Aggregate functions\n",
        "print(a.min())\n",
        "print(a.max())\n",
        "print(a.mean())\n",
        "print(a.sum())\n",
        "print(a.std())\n",
        "print(np.median(a))"
      ],
      "metadata": {
        "id": "WUoKLlP4uKZW"
      },
      "execution_count": null,
      "outputs": []
    },
    {
      "cell_type": "markdown",
      "source": [
        "###Comparisons"
      ],
      "metadata": {
        "id": "QRfQmVSdSgzX"
      }
    },
    {
      "cell_type": "code",
      "source": [
        "carr_1 = np.array([[1,4],[5,8]])\n",
        "carr_2 = np.array([[4,3],[5,6]])\n",
        "print(np.greater(carr_1,carr_2))\n",
        "print(np.greater_equal(carr_1,carr_2))\n",
        "print(np.less(carr_1,carr_2))\n",
        "print(np.less_equal(carr_1,carr_2))"
      ],
      "metadata": {
        "id": "samUYYEBSgX6"
      },
      "execution_count": null,
      "outputs": []
    },
    {
      "cell_type": "markdown",
      "source": [
        "### Files"
      ],
      "metadata": {
        "id": "OKbs3yKCfDs9"
      }
    },
    {
      "cell_type": "code",
      "source": [
        "np.save('myArr.npy',a)\n",
        "p = np.load('myArr.npy')\n",
        "print(p)"
      ],
      "metadata": {
        "id": "cRWjaPsTve2F"
      },
      "execution_count": null,
      "outputs": []
    },
    {
      "cell_type": "code",
      "source": [
        "np.savetxt('myArr.csv',a,delimiter=\",\")\n",
        "a = np.loadtxt('myArr.csv',delimiter=\",\")\n",
        "print(a)"
      ],
      "metadata": {
        "id": "79eN5ULovtt5"
      },
      "execution_count": null,
      "outputs": []
    },
    {
      "cell_type": "markdown",
      "source": [
        "### Matrix multiplication"
      ],
      "metadata": {
        "id": "Aja09vCxfH92"
      }
    },
    {
      "cell_type": "code",
      "source": [
        "# Matrix multiplication with NumPy\n",
        "\n",
        "# Example matrices\n",
        "matrix_a = np.array([[1, 2], [3, 4],[5, 6]])\n",
        "matrix_b = np.array([[5, 6, 7], [7, 8, 9]])\n",
        "print(matrix_a)\n",
        "print(matrix_b)\n",
        "\n",
        "# Perform matrix multiplication\n",
        "matrix_product = np.dot(matrix_a, matrix_b)\n",
        "\n",
        "# Print the result\n",
        "print(matrix_product)\n",
        "\n",
        "\n",
        "#Another example with different dimensions\n",
        "matrix_c = np.array([[1, 2, 3], [4, 5, 6]])\n",
        "matrix_d = np.array([[7, 8], [9, 10], [11, 12]])\n",
        "matrix_product_2 = np.dot(matrix_c, matrix_d)\n",
        "\n",
        "matrix_product_2\n",
        "\n",
        "\n",
        "\n"
      ],
      "metadata": {
        "id": "XXsjBtDxVe6a"
      },
      "execution_count": null,
      "outputs": []
    },
    {
      "cell_type": "code",
      "source": [
        "# Tensor multiplication\n",
        "tensor_a = np.arange(1, 13).reshape(3, 4)  # Shape: (3, 4)\n",
        "tensor_b = np.arange(13, 25).reshape(4, 3)  # Shape: (4, 3)\n",
        "print(tensor_a)\n",
        "print(tensor_b)\n",
        "\n",
        "print(\"normal dot:\\n\", np.dot(tensor_a, tensor_b))\n",
        "\n",
        "# Tensor dot product along axes 1 of tensor_a and 0 of tensor_b (equivalent to matrix multiplication)\n",
        "result = np.tensordot(tensor_a, tensor_b, axes=([1], [0]))\n",
        "print(\"tensor dot:\\n\", result)\n",
        "\n",
        "# Another tensor dot product example\n",
        "tensor_c = np.arange(1,7).reshape(2,3)\n",
        "tensor_d = np.arange(7,13).reshape(3,2)\n",
        "print(tensor_c)\n",
        "print(tensor_d)\n",
        "result_cd = np.dot(tensor_c, tensor_d)\n",
        "result_cd\n"
      ],
      "metadata": {
        "id": "nqui1gdqfhXB"
      },
      "execution_count": null,
      "outputs": []
    },
    {
      "cell_type": "code",
      "source": [
        "#Matrix determinant in numpy\n",
        "\n",
        "# Example matrix\n",
        "matrix = np.array([[1, 2], [3, 4]])\n",
        "\n",
        "# Calculate the determinant\n",
        "determinant = np.linalg.det(matrix)\n",
        "\n",
        "# Print the determinant\n",
        "determinant"
      ],
      "metadata": {
        "id": "RILzETagfqeP"
      },
      "execution_count": null,
      "outputs": []
    },
    {
      "cell_type": "code",
      "source": [
        "#Inverse of a matrix in numpy\n",
        "\n",
        "# Example matrix\n",
        "matrix = np.array([[1, 2], [3, 4]])\n",
        "\n",
        "# Calculate the inverse\n",
        "inverse_matrix = np.linalg.inv(matrix)\n",
        "\n",
        "# Print the inverse\n",
        "inverse_matrix"
      ],
      "metadata": {
        "id": "VS_ZT5T9fuBZ"
      },
      "execution_count": null,
      "outputs": []
    },
    {
      "cell_type": "code",
      "source": [
        "#Identity matrix in numpy\n",
        "\n",
        "# Create an identity matrix of size 3x3\n",
        "identity_matrix = np.identity(3)\n",
        "\n",
        "# Print the identity matrix\n",
        "identity_matrix"
      ],
      "metadata": {
        "id": "BD-PfiwQf5xb"
      },
      "execution_count": null,
      "outputs": []
    },
    {
      "cell_type": "markdown",
      "metadata": {
        "id": "hfYVa8iQTaUL"
      },
      "source": [
        "## Task 1: Create a Linear Dataset\n",
        "\n",
        "Your goal is to create a simple dataset consisting of a single feature and a label as follows:\n",
        "\n",
        "1. Assign a sequence of integers from 6 to 20 (inclusive) to a NumPy array named `feature`.\n",
        "2. Assign 15 values to a NumPy array named `label` such that:\n",
        "\n",
        "```\n",
        "   label = (3)(feature) + 4\n",
        "```\n",
        "For example, the first value for `label` should be:\n",
        "\n",
        "```\n",
        "  label = (3)(6) + 4 = 22\n",
        " ```"
      ]
    },
    {
      "cell_type": "code",
      "execution_count": null,
      "metadata": {
        "id": "qK9UF2rUc3Y_"
      },
      "outputs": [],
      "source": [
        "feature = ? # write your code here\n",
        "print(feature)\n",
        "label = ?   # write your code here\n",
        "print(label)"
      ]
    },
    {
      "cell_type": "code",
      "execution_count": null,
      "metadata": {
        "cellView": "form",
        "id": "KjtIAYvMTPGl"
      },
      "outputs": [],
      "source": [
        "#@title Double-click to see a possible solution to Task 1.\n",
        "feature = np.arange(6, 21)\n",
        "print(feature)\n",
        "label = (feature * 3) + 4\n",
        "print(label)"
      ]
    },
    {
      "cell_type": "markdown",
      "metadata": {
        "id": "RNsjGYRj87PB"
      },
      "source": [
        "## Task 2: Add Some Noise to the Dataset\n",
        "\n",
        "To make your dataset a little more realistic, insert a little random noise into each element of the `label` array you already created. To be more precise, modify each value assigned to `label` by adding a *different* random floating-point value between -2 and +2.\n",
        "\n",
        "Don't rely on broadcasting. Instead, create a `noise` array having the same dimension as `label`."
      ]
    },
    {
      "cell_type": "code",
      "execution_count": null,
      "metadata": {
        "id": "HF-flFfs9r0q"
      },
      "outputs": [],
      "source": [
        "noise = ?    # write your code here\n",
        "print(noise)\n",
        "label = ?    # write your code here\n",
        "print(label)"
      ]
    },
    {
      "cell_type": "code",
      "execution_count": null,
      "metadata": {
        "cellView": "form",
        "id": "7chgYKrC93np"
      },
      "outputs": [],
      "source": [
        "#@title Double-click to see a possible solution to Task 2.\n",
        "\n",
        "noise = (np.random.random([15]) * 4) - 2\n",
        "print(noise)\n",
        "label = label + noise\n",
        "print(label)"
      ]
    }
  ],
  "metadata": {
    "colab": {
      "private_outputs": true,
      "provenance": [],
      "include_colab_link": true
    },
    "kernelspec": {
      "display_name": "Python 3",
      "name": "python3"
    }
  },
  "nbformat": 4,
  "nbformat_minor": 0
}